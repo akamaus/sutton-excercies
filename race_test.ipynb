{
 "cells": [
  {
   "cell_type": "code",
   "execution_count": 1,
   "metadata": {},
   "outputs": [],
   "source": [
    "%load_ext autoreload\n",
    "%autoreload 2"
   ]
  },
  {
   "cell_type": "code",
   "execution_count": 2,
   "metadata": {},
   "outputs": [],
   "source": [
    "import race as R"
   ]
  },
  {
   "cell_type": "code",
   "execution_count": 3,
   "metadata": {},
   "outputs": [],
   "source": [
    "def train_agent(agent, n=10000):\n",
    "    from tqdm import tqdm\n",
    "    gains = []\n",
    "    for k in tqdm(range(n)):\n",
    "        g = agent.run_episode()\n",
    "        gains.append(g)\n",
    "    return gains"
   ]
  },
  {
   "cell_type": "code",
   "execution_count": 4,
   "metadata": {},
   "outputs": [],
   "source": [
    "race1 = R.RaceTrack(R.track1,2)\n",
    "race3 = R.RaceTrack(R.track3,2)\n",
    "race4 = R.RaceTrack(R.track4,3)\n",
    "race5 = R.RaceTrack(R.track5,4)"
   ]
  },
  {
   "cell_type": "code",
   "execution_count": 96,
   "metadata": {},
   "outputs": [
    {
     "name": "stdout",
     "output_type": "stream",
     "text": [
      "##########\n",
      "###...F###\n",
      "###...F###\n",
      "##...#####\n",
      "##...#####\n",
      "##C#######\n",
      "##########\n",
      "\n"
     ]
    }
   ],
   "source": [
    "race1.print()"
   ]
  },
  {
   "cell_type": "code",
   "execution_count": 6,
   "metadata": {},
   "outputs": [
    {
     "name": "stdout",
     "output_type": "stream",
     "text": [
      "###############\n",
      "###.......#####\n",
      "###........####\n",
      "##....##....###\n",
      "##...####...###\n",
      "##SCS####...###\n",
      "######F.....###\n",
      "######F....####\n",
      "###############\n",
      "\n"
     ]
    }
   ],
   "source": [
    "race3.print()"
   ]
  },
  {
   "cell_type": "code",
   "execution_count": 10,
   "metadata": {},
   "outputs": [
    {
     "name": "stdout",
     "output_type": "stream",
     "text": [
      "###############\n",
      "###.......#####\n",
      "###........####\n",
      "##....##....###\n",
      "##...####...###\n",
      "##SCS####...###\n",
      "######......###\n",
      "#FF##......####\n",
      "#..#..#########\n",
      "#..#...########\n",
      "#..##...#######\n",
      "#..###....#####\n",
      "#..###.....####\n",
      "##..##......###\n",
      "##..####....###\n",
      "###.........###\n",
      "######.....####\n",
      "###############\n",
      "\n"
     ]
    }
   ],
   "source": [
    "race4.print()"
   ]
  },
  {
   "cell_type": "code",
   "execution_count": 98,
   "metadata": {},
   "outputs": [
    {
     "name": "stdout",
     "output_type": "stream",
     "text": [
      "################\n",
      "####.......#####\n",
      "####........####\n",
      "###....##....###\n",
      "###...####...###\n",
      "###CSS####...###\n",
      "#######......###\n",
      "#FFF##......####\n",
      "#...#...########\n",
      "#...#...########\n",
      "#...##...#######\n",
      "#...###....#####\n",
      "#...####....####\n",
      "#....####....###\n",
      "##....###....###\n",
      "##...........###\n",
      "###.........####\n",
      "######....######\n",
      "################\n",
      "\n"
     ]
    }
   ],
   "source": [
    "race5.print()"
   ]
  },
  {
   "cell_type": "code",
   "execution_count": 5,
   "metadata": {},
   "outputs": [],
   "source": [
    "import table_algos as TA"
   ]
  },
  {
   "cell_type": "code",
   "execution_count": 6,
   "metadata": {},
   "outputs": [
    {
     "name": "stderr",
     "output_type": "stream",
     "text": [
      "100%|██████████| 10000/10000 [00:14<00:00, 712.44it/s]\n"
     ]
    }
   ],
   "source": [
    "sarsa = TA.Sarsa(race5)\n",
    "gains_sarsa  = train_agent(sarsa, n=10000)"
   ]
  },
  {
   "cell_type": "code",
   "execution_count": 7,
   "metadata": {},
   "outputs": [
    {
     "name": "stderr",
     "output_type": "stream",
     "text": [
      "100%|██████████| 10000/10000 [00:15<00:00, 629.80it/s]\n"
     ]
    }
   ],
   "source": [
    "n1_sarsa = TA.NStepSarsa(race5, 2)\n",
    "gains_n1_sarsa  = train_agent(n1_sarsa, n=10000)"
   ]
  },
  {
   "cell_type": "code",
   "execution_count": 22,
   "metadata": {},
   "outputs": [],
   "source": [
    "import matplotlib.pyplot as plt\n",
    "import numpy as np"
   ]
  },
  {
   "cell_type": "code",
   "execution_count": 12,
   "metadata": {},
   "outputs": [
    {
     "name": "stderr",
     "output_type": "stream",
     "text": [
      "100%|██████████| 10000/10000 [00:43<00:00, 231.56it/s]\n"
     ]
    }
   ],
   "source": [
    "n5_sarsa = TA.NStepSarsa(race5, 5)\n",
    "gains_n5_sarsa  = train_agent(n5_sarsa, n=10000)"
   ]
  },
  {
   "cell_type": "code",
   "execution_count": 13,
   "metadata": {},
   "outputs": [
    {
     "name": "stderr",
     "output_type": "stream",
     "text": [
      "100%|██████████| 10000/10000 [00:59<00:00, 168.27it/s]\n"
     ]
    }
   ],
   "source": [
    "n10_sarsa = TA.NStepSarsa(race5, 10)\n",
    "gains_n10_sarsa  = train_agent(n10_sarsa, n=10000)"
   ]
  },
  {
   "cell_type": "code",
   "execution_count": 14,
   "metadata": {},
   "outputs": [
    {
     "name": "stderr",
     "output_type": "stream",
     "text": [
      "100%|██████████| 10000/10000 [00:13<00:00, 732.35it/s]\n"
     ]
    }
   ],
   "source": [
    "n2_sarsa = TA.NStepSarsa(race5, 2)\n",
    "gains_n2_sarsa  = train_agent(n2_sarsa, n=10000)"
   ]
  },
  {
   "cell_type": "code",
   "execution_count": 17,
   "metadata": {
    "scrolled": true
   },
   "outputs": [
    {
     "name": "stderr",
     "output_type": "stream",
     "text": [
      "  0%|          | 3/10000 [00:00<05:40, 29.38it/s]"
     ]
    },
    {
     "name": "stdout",
     "output_type": "stream",
     "text": [
      "Step 1\n"
     ]
    },
    {
     "name": "stderr",
     "output_type": "stream",
     "text": [
      "100%|██████████| 10000/10000 [00:16<00:00, 621.02it/s]\n",
      "100%|██████████| 10000/10000 [00:15<00:00, 654.69it/s]\n",
      "100%|██████████| 10000/10000 [00:16<00:00, 603.28it/s]\n",
      "100%|██████████| 10000/10000 [00:15<00:00, 651.59it/s]\n",
      "100%|██████████| 10000/10000 [00:15<00:00, 651.33it/s]\n",
      "  0%|          | 12/10000 [00:00<03:19, 50.12it/s]"
     ]
    },
    {
     "name": "stdout",
     "output_type": "stream",
     "text": [
      "Step 2\n"
     ]
    },
    {
     "name": "stderr",
     "output_type": "stream",
     "text": [
      "100%|██████████| 10000/10000 [00:13<00:00, 733.52it/s]\n",
      "100%|██████████| 10000/10000 [00:14<00:00, 677.34it/s]\n",
      "100%|██████████| 10000/10000 [00:14<00:00, 704.06it/s]\n",
      "100%|██████████| 10000/10000 [00:15<00:00, 662.87it/s]\n",
      "100%|██████████| 10000/10000 [00:14<00:00, 675.30it/s]\n",
      "  1%|          | 76/10000 [00:00<01:26, 114.73it/s]"
     ]
    },
    {
     "name": "stdout",
     "output_type": "stream",
     "text": [
      "Step 3\n"
     ]
    },
    {
     "name": "stderr",
     "output_type": "stream",
     "text": [
      "100%|██████████| 10000/10000 [00:24<00:00, 416.38it/s]\n",
      "100%|██████████| 10000/10000 [00:22<00:00, 451.74it/s]\n",
      "100%|██████████| 10000/10000 [00:27<00:00, 361.54it/s]\n",
      "100%|██████████| 10000/10000 [00:22<00:00, 447.95it/s]\n",
      "100%|██████████| 10000/10000 [00:22<00:00, 441.29it/s]\n",
      "  4%|▍         | 384/10000 [00:03<01:28, 108.92it/s]"
     ]
    },
    {
     "name": "stdout",
     "output_type": "stream",
     "text": [
      "Step 4\n"
     ]
    },
    {
     "name": "stderr",
     "output_type": "stream",
     "text": [
      "100%|██████████| 10000/10000 [00:30<00:00, 323.45it/s]\n",
      "100%|██████████| 10000/10000 [00:28<00:00, 356.37it/s]\n",
      "100%|██████████| 10000/10000 [00:29<00:00, 343.11it/s]\n",
      "100%|██████████| 10000/10000 [00:31<00:00, 317.80it/s]\n",
      "100%|██████████| 10000/10000 [00:29<00:00, 334.42it/s]\n",
      "  1%|▏         | 133/10000 [00:01<02:20, 70.05it/s]"
     ]
    },
    {
     "name": "stdout",
     "output_type": "stream",
     "text": [
      "Step 5\n"
     ]
    },
    {
     "name": "stderr",
     "output_type": "stream",
     "text": [
      "100%|██████████| 10000/10000 [00:33<00:00, 296.95it/s]\n",
      "100%|██████████| 10000/10000 [00:35<00:00, 279.98it/s]\n",
      "100%|██████████| 10000/10000 [00:34<00:00, 286.07it/s]\n",
      "100%|██████████| 10000/10000 [00:33<00:00, 301.51it/s]\n",
      "100%|██████████| 10000/10000 [00:36<00:00, 274.06it/s]\n",
      "  1%|          | 107/10000 [00:01<03:03, 53.94it/s]"
     ]
    },
    {
     "name": "stdout",
     "output_type": "stream",
     "text": [
      "Step 6\n"
     ]
    },
    {
     "name": "stderr",
     "output_type": "stream",
     "text": [
      "100%|██████████| 10000/10000 [00:41<00:00, 243.27it/s]\n",
      "100%|██████████| 10000/10000 [00:36<00:00, 274.68it/s]\n",
      "100%|██████████| 10000/10000 [00:41<00:00, 241.60it/s]\n",
      "100%|██████████| 10000/10000 [00:36<00:00, 277.55it/s]\n",
      "100%|██████████| 10000/10000 [00:38<00:00, 262.79it/s]\n",
      "  1%|          | 109/10000 [00:03<05:42, 28.86it/s]"
     ]
    },
    {
     "name": "stdout",
     "output_type": "stream",
     "text": [
      "Step 7\n"
     ]
    },
    {
     "name": "stderr",
     "output_type": "stream",
     "text": [
      "100%|██████████| 10000/10000 [00:39<00:00, 256.21it/s]\n",
      "100%|██████████| 10000/10000 [00:45<00:00, 220.10it/s]\n",
      "100%|██████████| 10000/10000 [01:03<00:00, 158.63it/s]\n",
      "100%|██████████| 10000/10000 [00:45<00:00, 220.06it/s]\n",
      "100%|██████████| 10000/10000 [00:45<00:00, 218.11it/s]\n",
      "  1%|          | 75/10000 [00:02<05:33, 29.76it/s]"
     ]
    },
    {
     "name": "stdout",
     "output_type": "stream",
     "text": [
      "Step 8\n"
     ]
    },
    {
     "name": "stderr",
     "output_type": "stream",
     "text": [
      "100%|██████████| 10000/10000 [00:50<00:00, 198.00it/s]\n",
      "100%|██████████| 10000/10000 [00:37<00:00, 266.90it/s]\n",
      "100%|██████████| 10000/10000 [01:13<00:00, 135.33it/s]\n",
      "100%|██████████| 10000/10000 [01:07<00:00, 148.58it/s]\n",
      "100%|██████████| 10000/10000 [00:46<00:00, 214.64it/s]\n",
      "  0%|          | 20/10000 [00:00<05:18, 31.33it/s]"
     ]
    },
    {
     "name": "stdout",
     "output_type": "stream",
     "text": [
      "Step 9\n"
     ]
    },
    {
     "name": "stderr",
     "output_type": "stream",
     "text": [
      "100%|██████████| 10000/10000 [01:10<00:00, 142.45it/s]\n",
      "100%|██████████| 10000/10000 [00:57<00:00, 174.85it/s]\n",
      "100%|██████████| 10000/10000 [01:13<00:00, 136.91it/s]\n",
      "100%|██████████| 10000/10000 [01:12<00:00, 137.78it/s]\n",
      "100%|██████████| 10000/10000 [01:11<00:00, 139.56it/s]\n"
     ]
    }
   ],
   "source": [
    "from collections import OrderedDict\n",
    "gains = OrderedDict()\n",
    "for s in range(1,10):\n",
    "    print('Step', s)\n",
    "    gs = []\n",
    "    for k in range(5):\n",
    "        n_sarsa = TA.NStepSarsa(race5, s)\n",
    "        g = train_agent(n_sarsa, n=10000)\n",
    "        gs.append(g)\n",
    "    gains[s] = gs\n",
    "    \n",
    "    \n",
    "    "
   ]
  },
  {
   "cell_type": "code",
   "execution_count": 31,
   "metadata": {},
   "outputs": [
    {
     "name": "stderr",
     "output_type": "stream",
     "text": [
      "100%|██████████| 10000/10000 [00:13<00:00, 752.29it/s]\n",
      "100%|██████████| 10000/10000 [00:13<00:00, 720.65it/s]\n",
      "100%|██████████| 10000/10000 [00:14<00:00, 702.34it/s]\n",
      "100%|██████████| 10000/10000 [00:13<00:00, 731.65it/s]\n",
      "100%|██████████| 10000/10000 [00:13<00:00, 717.67it/s]\n"
     ]
    }
   ],
   "source": [
    "gs = []\n",
    "for k in range(5):\n",
    "        sarsa = TA.Sarsa(race5)\n",
    "        g = train_agent(sarsa, n=10000)\n",
    "        gs.append(g)\n",
    "gains[0] = gs"
   ]
  },
  {
   "cell_type": "code",
   "execution_count": 34,
   "metadata": {},
   "outputs": [
    {
     "data": {
      "text/plain": [
       "<matplotlib.collections.PolyCollection at 0x7fdc9b2b0e10>"
      ]
     },
     "execution_count": 34,
     "metadata": {},
     "output_type": "execute_result"
    },
    {
     "data": {
      "image/png": "[encoded data removed]",
      "text/plain": [
       "<Figure size 432x288 with 1 Axes>"
      ]
     },
     "metadata": {},
     "output_type": "display_data"
    }
   ],
   "source": [
    "xs = list(sorted(gains.keys()))\n",
    "mgs = []\n",
    "vgs = []\n",
    "for s in xs:\n",
    "    ms = np.mean(gains[s], axis=1)\n",
    "    v = np.std(ms)\n",
    "    m = np.mean(ms)\n",
    "    mgs.append(m)\n",
    "    vgs.append(v)\n",
    "mgs = np.array(mgs)\n",
    "vgs = np.array(vgs)\n",
    "plt.plot(mgs)\n",
    "plt.fill_between(np.array(xs), mgs - vgs, mgs+vgs, alpha=0.2, color='g')"
   ]
  },
  {
   "cell_type": "code",
   "execution_count": 46,
   "metadata": {},
   "outputs": [
    {
     "data": {
      "text/plain": [
       "<matplotlib.collections.PolyCollection at 0x7fdc9ade57f0>"
      ]
     },
     "execution_count": 46,
     "metadata": {},
     "output_type": "execute_result"
    },
    {
     "data": {
      "image/png": "[encoded data removed]",
      "text/plain": [
       "<Figure size 432x288 with 1 Axes>"
      ]
     },
     "metadata": {},
     "output_type": "display_data"
    }
   ],
   "source": [
    "xs = list(sorted(gains.keys()))\n",
    "mgs = []\n",
    "vgs = []\n",
    "for s in xs:\n",
    "    ms = np.mean(np.array(gains[s])[:,9000:10000], axis=1)\n",
    "    v = np.std(ms)\n",
    "    m = np.mean(ms)\n",
    "    mgs.append(m)\n",
    "    vgs.append(v)\n",
    "mgs = np.array(mgs)\n",
    "vgs = np.array(vgs)\n",
    "plt.plot(mgs)\n",
    "plt.fill_between(np.array(xs), mgs - vgs, mgs+vgs, alpha=0.2, color='g')"
   ]
  },
  {
   "cell_type": "code",
   "execution_count": 27,
   "metadata": {},
   "outputs": [
    {
     "data": {
      "text/plain": [
       "array([ 3.82597849,  3.52039022, 14.55769866,  8.82237449,  8.66279076,\n",
       "       15.13068543, 53.15993006, 91.53915772, 39.06235502])"
      ]
     },
     "execution_count": 27,
     "metadata": {},
     "output_type": "execute_result"
    }
   ],
   "source": [
    "vgs"
   ]
  },
  {
   "cell_type": "code",
   "execution_count": 15,
   "metadata": {},
   "outputs": [
    {
     "name": "stdout",
     "output_type": "stream",
     "text": [
      "sarsa_mean -122.2953\n",
      "n1_sarsa_mean -118.6473\n",
      "n2_sarsa_mean -98.5221\n",
      "n5_sarsa_mean -295.7358\n",
      "n10_sarsa_mean -384.6194\n"
     ]
    },
    {
     "data": {
      "image/png": "[encoded data removed]",
      "text/plain": [
       "<Figure size 432x288 with 1 Axes>"
      ]
     },
     "metadata": {},
     "output_type": "display_data"
    }
   ],
   "source": [
    "plt.plot(gains_sarsa)\n",
    "plt.plot(gains_n5_sarsa)\n",
    "print('sarsa_mean', np.mean(gains_sarsa))\n",
    "print('n1_sarsa_mean', np.mean(gains_n1_sarsa))\n",
    "print('n2_sarsa_mean', np.mean(gains_n2_sarsa))\n",
    "print('n5_sarsa_mean', np.mean(gains_n5_sarsa))\n",
    "print('n10_sarsa_mean', np.mean(gains_n10_sarsa))"
   ]
  },
  {
   "cell_type": "code",
   "execution_count": null,
   "metadata": {},
   "outputs": [],
   "source": [
    "race3 = R.RaceTrack(R.track3,3)\n",
    "sarsa3 = TA.Sarsa(race3)\n",
    "gains3 = []\n",
    "for k in tqdm(range(100000)):\n",
    "    g = sarsa3.run_episode()\n",
    "    gains3.append(g)\n"
   ]
  },
  {
   "cell_type": "code",
   "execution_count": null,
   "metadata": {},
   "outputs": [],
   "source": [
    "ql3 = TA.QLearning(race3)"
   ]
  },
  {
   "cell_type": "code",
   "execution_count": null,
   "metadata": {},
   "outputs": [],
   "source": [
    "qgains = []"
   ]
  },
  {
   "cell_type": "code",
   "execution_count": null,
   "metadata": {},
   "outputs": [],
   "source": [
    "for k in tqdm(range(10000)):\n",
    "    g = ql3.run_episode(eps=0)\n",
    "    qgains.append(g)"
   ]
  },
  {
   "cell_type": "code",
   "execution_count": null,
   "metadata": {},
   "outputs": [],
   "source": [
    "plt.plot(gains3)\n",
    "plt.plot(qgains)"
   ]
  },
  {
   "cell_type": "code",
   "execution_count": null,
   "metadata": {},
   "outputs": [],
   "source": [
    "ql3.run_episode(callback=lambda: race3.print(),eps=0)\n",
    "race3.state_log"
   ]
  },
  {
   "cell_type": "code",
   "execution_count": null,
   "metadata": {},
   "outputs": [],
   "source": [
    "def exp_mean_std(series, alpha=0.1):\n",
    "    import math\n",
    "    import numpy as np\n",
    "    \n",
    "    means = []\n",
    "    stds = []\n",
    "    \n",
    "    mean = series[0]\n",
    "    sqr_mean = mean**2\n",
    "    \n",
    "    for v in series:\n",
    "        mean += alpha * (v - mean)\n",
    "        sqr_mean += alpha * (v**2 - sqr_mean)\n",
    "        means.append(mean)\n",
    "        stds.append(math.sqrt(sqr_mean - mean**2))\n",
    "    return np.array(means), np.array(stds)"
   ]
  },
  {
   "cell_type": "code",
   "execution_count": null,
   "metadata": {},
   "outputs": [],
   "source": [
    "mgains, sgains = exp_mean_std(gains3, alpha=0.01)\n",
    "plt.plot(mgains)\n",
    "plt.fill_between(range(len(sgains)), mgains-sgains, mgains+sgains, alpha=0.2, color='green')"
   ]
  },
  {
   "cell_type": "code",
   "execution_count": null,
   "metadata": {},
   "outputs": [],
   "source": [
    "race4 = R.RaceTrack(R.track4,5)\n",
    "ql4 = TA.QLearning(race4)\n",
    "qgains4_01 = []"
   ]
  },
  {
   "cell_type": "code",
   "execution_count": null,
   "metadata": {},
   "outputs": [],
   "source": [
    "ql4_2 = TA.QLearning(race4)\n",
    "qgains4_02 = []"
   ]
  },
  {
   "cell_type": "code",
   "execution_count": null,
   "metadata": {},
   "outputs": [],
   "source": [
    "ql4_3 = TA.QLearning(race4)\n",
    "qgains4_005 = []"
   ]
  },
  {
   "cell_type": "code",
   "execution_count": null,
   "metadata": {},
   "outputs": [],
   "source": [
    "for k in tqdm(range(10000)):\n",
    "    g = ql4.run_episode(eps=0.1)\n",
    "    qgains4_01.append(g)\n",
    "    "
   ]
  },
  {
   "cell_type": "code",
   "execution_count": null,
   "metadata": {},
   "outputs": [],
   "source": [
    "%matplotlib inline\n",
    "plt.plot(qgains4_01)\n",
    "plt.plot(qgains4_02)\n",
    "plt.plot(qgains4_005)"
   ]
  },
  {
   "cell_type": "code",
   "execution_count": null,
   "metadata": {},
   "outputs": [],
   "source": [
    "ql4.run_episode(callback=lambda: race4.print(), eps=0.0)"
   ]
  },
  {
   "cell_type": "code",
   "execution_count": 9,
   "metadata": {},
   "outputs": [
    {
     "name": "stderr",
     "output_type": "stream",
     "text": [
      "100%|██████████| 5000/5000 [00:14<00:00, 351.42it/s]\n"
     ]
    }
   ],
   "source": [
    "mc = TA.MonteCarlo(race3)\n",
    "gain_mc = train_agent(mc, 5000)"
   ]
  },
  {
   "cell_type": "markdown",
   "metadata": {},
   "source": [
    "# Reinforce!!!"
   ]
  },
  {
   "cell_type": "code",
   "execution_count": 10,
   "metadata": {},
   "outputs": [],
   "source": [
    "import reinforce as RF\n",
    "from tensorboardX import SummaryWriter"
   ]
  },
  {
   "cell_type": "code",
   "execution_count": 11,
   "metadata": {},
   "outputs": [],
   "source": [
    "rf_race = race3"
   ]
  },
  {
   "cell_type": "code",
   "execution_count": 12,
   "metadata": {},
   "outputs": [],
   "source": [
    "writer=SummaryWriter('logs/track3_h200_g0.99_norm_lr0.001_value__centered_try3')\n",
    "policy = RF.Policy(rf_race, hidden=200)\n",
    "value = RF.Values(rf_race, hidden=128)\n",
    "trainer = RF.Trainer(rf_race, policy, value=value, writer=writer, lr=1e-3, max_len=200, gamma=0.99)"
   ]
  },
  {
   "cell_type": "code",
   "execution_count": 13,
   "metadata": {},
   "outputs": [
    {
     "name": "stderr",
     "output_type": "stream",
     "text": [
      "100%|██████████| 5000/5000 [01:24<00:00, 59.02it/s]\n"
     ]
    }
   ],
   "source": [
    "rf_gains = train_agent(trainer, n=5000)"
   ]
  },
  {
   "cell_type": "code",
   "execution_count": 223,
   "metadata": {},
   "outputs": [
    {
     "data": {
      "text/plain": [
       "[<matplotlib.lines.Line2D at 0x7f9468bc5da0>]"
      ]
     },
     "execution_count": 223,
     "metadata": {},
     "output_type": "execute_result"
    },
    {
     "data": {
      "image/png": "[encoded data removed]",
      "text/plain": [
       "<Figure size 432x288 with 1 Axes>"
      ]
     },
     "metadata": {},
     "output_type": "display_data"
    }
   ],
   "source": [
    "plt.plot(gains_sarsa)\n",
    "plt.plot(rf_gains)\n",
    "plt.plot(gains_mc, alpha=0.1)\n",
    "\n"
   ]
  },
  {
   "cell_type": "code",
   "execution_count": 167,
   "metadata": {},
   "outputs": [
    {
     "data": {
      "text/plain": [
       "[<matplotlib.lines.Line2D at 0x7f9459d56860>]"
      ]
     },
     "execution_count": 167,
     "metadata": {},
     "output_type": "execute_result"
    },
    {
     "data": {
      "image/png": "[encoded data removed]",
      "text/plain": [
       "<Figure size 432x288 with 1 Axes>"
      ]
     },
     "metadata": {},
     "output_type": "display_data"
    }
   ],
   "source": []
  },
  {
   "cell_type": "code",
   "execution_count": 46,
   "metadata": {},
   "outputs": [],
   "source": [
    "import torch\n",
    "import numpy as np"
   ]
  },
  {
   "cell_type": "code",
   "execution_count": 47,
   "metadata": {},
   "outputs": [
    {
     "name": "stdout",
     "output_type": "stream",
     "text": [
      "affine1.weight tensor(11.9120, grad_fn=<NormBackward0>)\n",
      "affine1.bias tensor(3.9339, grad_fn=<NormBackward0>)\n",
      "affine2.weight tensor(5.3020, grad_fn=<NormBackward0>)\n",
      "affine2.bias tensor(0.1869, grad_fn=<NormBackward0>)\n"
     ]
    }
   ],
   "source": [
    "for n, p in policy.named_parameters():\n",
    "    print(n, p.norm())"
   ]
  },
  {
   "cell_type": "code",
   "execution_count": 48,
   "metadata": {},
   "outputs": [
    {
     "data": {
      "text/plain": [
       "tensor([[0.0051, 0.8761, 0.0012, 0.1173, 0.0003]], grad_fn=<SoftmaxBackward>)"
      ]
     },
     "execution_count": 48,
     "metadata": {},
     "output_type": "execute_result"
    }
   ],
   "source": [
    "import torch\n",
    "rf_race.reset()\n",
    "policy.forward(torch.FloatTensor(rf_race.get_state()).unsqueeze(0))"
   ]
  },
  {
   "cell_type": "code",
   "execution_count": 49,
   "metadata": {},
   "outputs": [],
   "source": [
    "dirs = np.zeros(rf_race.get_sizes())\n",
    "probs = np.zeros(rf_race.get_sizes())\n",
    "values = np.zeros(rf_race.get_sizes())\n",
    "\n",
    "for i in range(rf_race.get_sizes()[0]):\n",
    "    for j in range(rf_race.get_sizes()[1]):\n",
    "        vr = 1; vc = 2;\n",
    "        aprobs = policy.forward(torch.FloatTensor([i,j,vr,vc]).unsqueeze(0))[0]\n",
    "        a = aprobs.argmax().item()\n",
    "        dirs[i,j,vr,vc] = a\n",
    "        probs[i,j,vr,vc] = aprobs[a].item()\n",
    "        val = value.forward(torch.FloatTensor([i,j,vr,vc]).unsqueeze(0))[0]\n",
    "        values[i,j,vr,vc] = val"
   ]
  },
  {
   "cell_type": "code",
   "execution_count": 50,
   "metadata": {},
   "outputs": [],
   "source": [
    "v = policy.forward(torch.FloatTensor(rf_race.get_state()).unsqueeze(0))"
   ]
  },
  {
   "cell_type": "code",
   "execution_count": 51,
   "metadata": {},
   "outputs": [
    {
     "data": {
      "text/plain": [
       "array([[0., 0., 0., 0., 0., 0., 0., 0., 0., 0., 0., 0., 0., 0., 0.],\n",
       "       [0., 0., 0., 0., 0., 0., 0., 0., 0., 0., 0., 0., 0., 0., 0.],\n",
       "       [0., 0., 0., 0., 0., 0., 0., 0., 0., 0., 0., 0., 0., 0., 0.],\n",
       "       [0., 0., 0., 0., 0., 0., 0., 0., 0., 0., 0., 0., 0., 0., 0.],\n",
       "       [0., 0., 0., 0., 0., 0., 0., 0., 0., 0., 0., 0., 0., 0., 0.],\n",
       "       [0., 0., 0., 0., 0., 0., 0., 0., 0., 0., 0., 0., 0., 0., 0.],\n",
       "       [0., 0., 0., 0., 0., 0., 0., 0., 0., 0., 0., 0., 0., 0., 0.],\n",
       "       [0., 0., 0., 0., 0., 0., 0., 0., 0., 0., 0., 0., 0., 0., 0.],\n",
       "       [0., 0., 0., 0., 0., 0., 0., 0., 0., 0., 0., 0., 0., 0., 0.]])"
      ]
     },
     "execution_count": 51,
     "metadata": {},
     "output_type": "execute_result"
    }
   ],
   "source": [
    "probs[:,:,2,2]"
   ]
  },
  {
   "cell_type": "code",
   "execution_count": 52,
   "metadata": {},
   "outputs": [],
   "source": [
    "xs,ys = np.meshgrid(range(rf_race.get_sizes()[0]), range(rf_race.get_sizes()[1]), indexing='ij')"
   ]
  },
  {
   "cell_type": "code",
   "execution_count": 53,
   "metadata": {},
   "outputs": [
    {
     "data": {
      "text/plain": [
       "<matplotlib.colorbar.Colorbar at 0x7fc350286ef0>"
      ]
     },
     "execution_count": 53,
     "metadata": {},
     "output_type": "execute_result"
    },
    {
     "data": {
      "image/png": "[encoded data removed]",
      "text/plain": [
       "<Figure size 432x288 with 2 Axes>"
      ]
     },
     "metadata": {},
     "output_type": "display_data"
    }
   ],
   "source": [
    "import matplotlib.pyplot as plt\n",
    "plt.contourf(xs,ys, probs[:,:,1,2])\n",
    "plt.colorbar()"
   ]
  },
  {
   "cell_type": "code",
   "execution_count": 54,
   "metadata": {},
   "outputs": [
    {
     "data": {
      "text/plain": [
       "<matplotlib.colorbar.Colorbar at 0x7fc3501aa780>"
      ]
     },
     "execution_count": 54,
     "metadata": {},
     "output_type": "execute_result"
    },
    {
     "data": {
      "image/png": "[encoded data removed]",
      "text/plain": [
       "<Figure size 432x288 with 2 Axes>"
      ]
     },
     "metadata": {},
     "output_type": "display_data"
    }
   ],
   "source": [
    "plt.imshow(dirs[:,:,1,2], origin='lower')\n",
    "plt.colorbar()"
   ]
  },
  {
   "cell_type": "code",
   "execution_count": 57,
   "metadata": {},
   "outputs": [
    {
     "data": {
      "text/plain": [
       "<matplotlib.colorbar.Colorbar at 0x7fc34878ee48>"
      ]
     },
     "execution_count": 57,
     "metadata": {},
     "output_type": "execute_result"
    },
    {
     "data": {
      "image/png": "[encoded data removed]",
      "text/plain": [
       "<Figure size 432x288 with 2 Axes>"
      ]
     },
     "metadata": {},
     "output_type": "display_data"
    }
   ],
   "source": [
    "plt.contourf(xs,ys, values[:,:,2,2])\n",
    "plt.colorbar()"
   ]
  },
  {
   "cell_type": "code",
   "execution_count": 179,
   "metadata": {},
   "outputs": [
    {
     "data": {
      "text/plain": [
       "tensor([[0.0102, 0.0015, 0.9880, 0.0000, 0.0003]], grad_fn=<SoftmaxBackward>)"
      ]
     },
     "execution_count": 179,
     "metadata": {},
     "output_type": "execute_result"
    }
   ],
   "source": [
    "policy.forward(torch.FloatTensor(rf_race.get_state()).unsqueeze(0))"
   ]
  },
  {
   "cell_type": "code",
   "execution_count": 201,
   "metadata": {},
   "outputs": [
    {
     "data": {
      "text/plain": [
       "('CONT', (4, 3, -1, 0), -1)"
      ]
     },
     "execution_count": 201,
     "metadata": {},
     "output_type": "execute_result"
    }
   ],
   "source": [
    "rf_race.act(1)"
   ]
  },
  {
   "cell_type": "code",
   "execution_count": 60,
   "metadata": {},
   "outputs": [
    {
     "data": {
      "text/plain": [
       "0.0"
      ]
     },
     "execution_count": 60,
     "metadata": {},
     "output_type": "execute_result"
    }
   ],
   "source": [
    "values.min()"
   ]
  },
  {
   "cell_type": "code",
   "execution_count": null,
   "metadata": {},
   "outputs": [],
   "source": []
  }
 ],
 "metadata": {
  "kernelspec": {
   "display_name": "Python 3",
   "language": "python",
   "name": "python3"
  },
  "language_info": {
   "codemirror_mode": {
    "name": "ipython",
    "version": 3
   },
   "file_extension": ".py",
   "mimetype": "text/x-python",
   "name": "python",
   "nbconvert_exporter": "python",
   "pygments_lexer": "ipython3",
   "version": "3.6.6"
  }
 },
 "nbformat": 4,
 "nbformat_minor": 2
}
